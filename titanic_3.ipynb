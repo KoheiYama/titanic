{
 "cells": [
  {
   "cell_type": "code",
   "execution_count": 55,
   "metadata": {},
   "outputs": [],
   "source": [
    "import warnings as wn\n",
    "wn.filterwarnings('ignore')"
   ]
  },
  {
   "cell_type": "code",
   "execution_count": 56,
   "metadata": {},
   "outputs": [],
   "source": [
    "import numpy as np\n",
    "import pandas as pd\n",
    "from sklearn.ensemble import RandomForestClassifier\n",
    "df_train = pd.read_csv('./train.csv')\n",
    "df_test = pd.read_csv('./test.csv')"
   ]
  },
  {
   "cell_type": "code",
   "execution_count": 57,
   "metadata": {},
   "outputs": [],
   "source": [
    "df_train[df_train['Embarked'].isnull()]\n",
    "df_train.loc[df_train['PassengerId'].isin([62, 830]), 'Embarked'] = 'C'"
   ]
  },
  {
   "cell_type": "code",
   "execution_count": 58,
   "metadata": {},
   "outputs": [],
   "source": [
    "df_test.loc[df_test['PassengerId']== 1044, 'Fare']=13.675550"
   ]
  },
  {
   "cell_type": "code",
   "execution_count": 59,
   "metadata": {},
   "outputs": [],
   "source": [
    "def impute_age(cols):\n",
    "    Age = cols[0]\n",
    "    Pclass = cols[1]\n",
    "    if pd.isnull(Age):\n",
    "        if Pclass == 1:\n",
    "            return 39\n",
    "        elif Pclass == 2:\n",
    "            return 30\n",
    "        else:\n",
    "            return 25\n",
    "    else:\n",
    "        return Age\n",
    "    \n",
    "def impute_sex(cols):\n",
    "    Sex = cols[0]\n",
    "    if pd.isnull(Sex):\n",
    "        if Sex == 'male':\n",
    "            return 0\n",
    "        else:\n",
    "            return 1\n",
    "    else:\n",
    "        return 0\n",
    "    \n",
    "def impute_embarked(cols):\n",
    "    Embarked = cols[0]\n",
    "    if Embarked == 'S':\n",
    "        return 0\n",
    "    elif Embarked == 'C':\n",
    "        return 1\n",
    "    elif Embarked == 'Q':\n",
    "        return 2\n",
    "    else:\n",
    "        return Embarked\n",
    "\n",
    "data = [df_train, df_test]\n",
    "\n",
    "for df in data:\n",
    "    df['Age'] = df[['Age','Pclass']].apply(impute_age, axis = 1)\n",
    "    \n",
    "    df['Sex'] = df[['Sex']].apply(impute_sex, axis = 1)\n",
    "    df['Embarked'] = df[['Embarked']].apply(impute_embarked, axis = 1)\n",
    "    df.loc[df['Fare']<=7.91, 'Fare'] = 0\n",
    "    df.loc[(df['Fare']>7.91) & (df['Fare']<=14.454), 'Fare'] = 1\n",
    "    df.loc[(df['Fare']>14.454) & (df['Fare']<=31), 'Fare'] = 2\n",
    "    df.loc[(df['Fare']>31), 'Fare'] = 3\n",
    "    df['Fare'] = df['Fare'].astype(int)\n",
    "    \n",
    "    df.loc[df['Age']<=16, 'Age'] = 0\n",
    "    df.loc[(df['Age']>16) & (df['Age']<=32), 'Age'] = 1\n",
    "    df.loc[(df['Age']>32) & (df['Age']<=48), 'Age'] = 2\n",
    "    df.loc[df['Age']>48, 'Age'] = 3\n",
    "    df['Age'] = df['Age'].astype(int)\n",
    "    \n",
    "    df['FamilySize'] = df['SibSp'] + df['Parch'] + 1\n",
    "    df['IsAlone'] = 0\n",
    "    df.loc[df['FamilySize'] == 1, 'IsAlone'] = 1\n",
    "    \n",
    "df_train.drop(['Name', 'Cabin', 'Ticket', 'SibSp', 'Parch'], axis = 1, inplace = True)\n",
    "df_test.drop(['Name', 'Cabin', 'Ticket', 'SibSp', 'Parch'], axis = 1, inplace = True)\n",
    "    \n",
    "#trainingデータの結果のみ抜き出し\n",
    "#X_train = df_train.drop(['PassengerId','Survived'],axis= 1)\n",
    "X_train = df_train.drop(['Survived'],axis= 1)\n",
    "\n",
    "#trainingデータの結果のみ抜き出し\n",
    "Y_train = df_train['Survived']\n",
    "X_test = df_test.copy()\n",
    "    \n",
    "# 学習\n",
    "forest = RandomForestClassifier(random_state=1)\n",
    "forest.fit(X_train, Y_train)\n",
    "Y_pred = forest.predict(X_test)\n",
    "\n",
    "# 提出データの作成\n",
    "submission = pd.DataFrame({\n",
    "        \"PassengerId\": df_test[\"PassengerId\"],\n",
    "        \"Survived\": Y_pred})\n",
    "submission.to_csv('submit3.csv', index=False)"
   ]
  },
  {
   "cell_type": "code",
   "execution_count": 60,
   "metadata": {},
   "outputs": [
    {
     "name": "stdout",
     "output_type": "stream",
     "text": [
      "PassengerId 0.5821\n",
      "Pclass 0.095\n",
      "Sex 0.0\n",
      "Age 0.09\n",
      "Fare 0.0833\n",
      "Embarked 0.0506\n",
      "FamilySize 0.0858\n",
      "IsAlone 0.0132\n"
     ]
    }
   ],
   "source": [
    "for i,k in zip(X_train.columns,forest.feature_importances_):\n",
    "  print(i,round(k,4))"
   ]
  },
  {
   "cell_type": "code",
   "execution_count": null,
   "metadata": {},
   "outputs": [],
   "source": [
    "\n",
    "    "
   ]
  },
  {
   "cell_type": "code",
   "execution_count": null,
   "metadata": {},
   "outputs": [],
   "source": []
  }
 ],
 "metadata": {
  "kernelspec": {
   "display_name": "Python 3",
   "language": "python",
   "name": "python3"
  },
  "language_info": {
   "codemirror_mode": {
    "name": "ipython",
    "version": 3
   },
   "file_extension": ".py",
   "mimetype": "text/x-python",
   "name": "python",
   "nbconvert_exporter": "python",
   "pygments_lexer": "ipython3",
   "version": "3.7.0"
  }
 },
 "nbformat": 4,
 "nbformat_minor": 2
}
